{
 "cells": [
  {
   "cell_type": "markdown",
   "metadata": {},
   "source": [
    "This notebook is part of the requriments to complete the IBM professional Data Science course. All code for this project will be available in this notebook."
   ]
  },
  {
   "cell_type": "markdown",
   "metadata": {},
   "source": []
  },
  {
   "cell_type": "code",
   "execution_count": 9,
   "metadata": {},
   "outputs": [
    {
     "name": "stdout",
     "output_type": "stream",
     "text": [
      "Collecting folium\n",
      "  Using cached folium-0.12.1-py2.py3-none-any.whl (94 kB)\n",
      "Requirement already satisfied: requests in c:\\users\\homet\\anaconda3\\lib\\site-packages (from folium) (2.25.1)\n",
      "Requirement already satisfied: jinja2>=2.9 in c:\\users\\homet\\anaconda3\\lib\\site-packages (from folium) (2.11.3)\n",
      "Collecting branca>=0.3.0\n",
      "  Using cached branca-0.4.2-py3-none-any.whl (24 kB)\n",
      "Requirement already satisfied: numpy in c:\\users\\homet\\anaconda3\\lib\\site-packages (from folium) (1.20.1)\n",
      "Requirement already satisfied: MarkupSafe>=0.23 in c:\\users\\homet\\anaconda3\\lib\\site-packages (from jinja2>=2.9->folium) (1.1.1)\n",
      "Requirement already satisfied: certifi>=2017.4.17 in c:\\users\\homet\\anaconda3\\lib\\site-packages (from requests->folium) (2020.12.5)\n",
      "Requirement already satisfied: urllib3<1.27,>=1.21.1 in c:\\users\\homet\\anaconda3\\lib\\site-packages (from requests->folium) (1.26.4)\n",
      "Requirement already satisfied: idna<3,>=2.5 in c:\\users\\homet\\anaconda3\\lib\\site-packages (from requests->folium) (2.10)\n",
      "Requirement already satisfied: chardet<5,>=3.0.2 in c:\\users\\homet\\anaconda3\\lib\\site-packages (from requests->folium) (4.0.0)\n",
      "Installing collected packages: branca, folium\n",
      "Successfully installed branca-0.4.2 folium-0.12.1\n",
      "Libraries imported.\n"
     ]
    }
   ],
   "source": [
    "import pandas as pd\n",
    "\n",
    "pd.set_option('display.max_columns', None)\n",
    "pd.set_option('display.max_rows', None)\n",
    "\n",
    "import numpy as np\n",
    "\n",
    "import matplotlib.pyplot as plt\n",
    "import matplotlib.cm as cm\n",
    "import matplotlib.colors as colors\n",
    "\n",
    "from bs4 import BeautifulSoup\n",
    "from urllib.request import urlopen\n",
    "\n",
    "#!pip install geopy\n",
    "from geopy.geocoders import Nominatim # convert an address into latitude and longitude values\n",
    "\n",
    "import requests # \n",
    "from pandas.io.json import json_normalize \n",
    "\n",
    "\n",
    "# import k-means from clustering stage\n",
    "from sklearn.cluster import KMeans\n",
    "!pip install folium\n",
    "#!conda install -c conda-forge folium\n",
    "import folium # map rendering library\n",
    "\n",
    "print('Libraries imported.')\n"
   ]
  },
  {
   "cell_type": "markdown",
   "metadata": {},
   "source": [
    "## Data Collection\n",
    "The Dataset to be used for this project is not readily avalilable so I will be making use of the BeautifulSoup library to scrap the data from a webpage."
   ]
  },
  {
   "cell_type": "code",
   "execution_count": 14,
   "metadata": {},
   "outputs": [
    {
     "name": "stdout",
     "output_type": "stream",
     "text": [
      "['Old Toronto', 'East York', 'Etobicoke', 'North York', 'Scarborough', 'York']\n"
     ]
    }
   ],
   "source": [
    "borughs=[]\n",
    "from urllib.request import urlopen\n",
    "import re\n",
    "borugh=urlopen('https://en.wikipedia.org/wiki/List_of_neighbourhoods_in_Toronto#Neighbourhoods_by_district')\n",
    "#making use of the beautifulsoup library.\n",
    "bs=BeautifulSoup(borugh, 'html5lib')\n",
    "borugh_names=bs.findAll('span',{'id':re.compile('(Old_Toronto|East_York|Etobicoke|North_York|Scarborough|York)')})\n",
    "for borough_name in borugh_names:\n",
    "    borughs.append(borough_name.get_text())\n",
    "print(borughs)"
   ]
  },
  {
   "cell_type": "code",
   "execution_count": 30,
   "metadata": {},
   "outputs": [],
   "source": [
    "import geopy\n",
    "from  geopy.geocoders import Nominatim\n",
    "nominatim_service = Nominatim(user_agent='Diwupirate') # Important line\n",
    "geopy.geocoders.options.default_user_agent = 'Diwupirate' # Important line\n",
    "geolocator = Nominatim()"
   ]
  },
  {
   "cell_type": "code",
   "execution_count": 27,
   "metadata": {},
   "outputs": [
    {
     "name": "stdout",
     "output_type": "stream",
     "text": [
      "latitude is :- 43.650786999999994 \n",
      "longtitude is:- -79.40431814731767\n"
     ]
    }
   ],
   "source": [
    "city =\"Alexandra Park\"\n",
    "country =\"Toronto\"\n",
    "loc = geolocator.geocode(city+','+ country)\n",
    "print(\"latitude is :-\" ,loc.latitude,\"\\nlongtitude is:-\" ,loc.longitude)\n"
   ]
  },
  {
   "cell_type": "markdown",
   "metadata": {},
   "source": [
    "## Importing the scraped dataset from a csv file.\n"
   ]
  },
  {
   "cell_type": "code",
   "execution_count": 26,
   "metadata": {},
   "outputs": [
    {
     "data": {
      "text/html": [
       "<div>\n",
       "<style scoped>\n",
       "    .dataframe tbody tr th:only-of-type {\n",
       "        vertical-align: middle;\n",
       "    }\n",
       "\n",
       "    .dataframe tbody tr th {\n",
       "        vertical-align: top;\n",
       "    }\n",
       "\n",
       "    .dataframe thead th {\n",
       "        text-align: right;\n",
       "    }\n",
       "</style>\n",
       "<table border=\"1\" class=\"dataframe\">\n",
       "  <thead>\n",
       "    <tr style=\"text-align: right;\">\n",
       "      <th></th>\n",
       "      <th>Boroughs</th>\n",
       "      <th>Neigborhoods</th>\n",
       "    </tr>\n",
       "  </thead>\n",
       "  <tbody>\n",
       "    <tr>\n",
       "      <th>0</th>\n",
       "      <td>Old_Toronto</td>\n",
       "      <td>Alexandra Park</td>\n",
       "    </tr>\n",
       "    <tr>\n",
       "      <th>1</th>\n",
       "      <td>Old_Toronto</td>\n",
       "      <td>The Annex</td>\n",
       "    </tr>\n",
       "    <tr>\n",
       "      <th>2</th>\n",
       "      <td>Old_Toronto</td>\n",
       "      <td>Baldwin Village</td>\n",
       "    </tr>\n",
       "    <tr>\n",
       "      <th>3</th>\n",
       "      <td>Old_Toronto</td>\n",
       "      <td>Cabbagetown</td>\n",
       "    </tr>\n",
       "    <tr>\n",
       "      <th>4</th>\n",
       "      <td>Old_Toronto</td>\n",
       "      <td>CityPlace</td>\n",
       "    </tr>\n",
       "  </tbody>\n",
       "</table>\n",
       "</div>"
      ],
      "text/plain": [
       "      Boroughs     Neigborhoods\n",
       "0  Old_Toronto   Alexandra Park\n",
       "1  Old_Toronto        The Annex\n",
       "2  Old_Toronto  Baldwin Village\n",
       "3  Old_Toronto      Cabbagetown\n",
       "4  Old_Toronto        CityPlace"
      ]
     },
     "execution_count": 26,
     "metadata": {},
     "output_type": "execute_result"
    }
   ],
   "source": [
    "#Toronto_neighborhoods=pd.read_csv('./Toronto_neighborhoods.csv')\n",
    "Toronto_neighborhoods.head()"
   ]
  },
  {
   "cell_type": "code",
   "execution_count": 32,
   "metadata": {
    "collapsed": true,
    "jupyter": {
     "outputs_hidden": true
    }
   },
   "outputs": [
    {
     "data": {
      "text/html": [
       "<div>\n",
       "<style scoped>\n",
       "    .dataframe tbody tr th:only-of-type {\n",
       "        vertical-align: middle;\n",
       "    }\n",
       "\n",
       "    .dataframe tbody tr th {\n",
       "        vertical-align: top;\n",
       "    }\n",
       "\n",
       "    .dataframe thead th {\n",
       "        text-align: right;\n",
       "    }\n",
       "</style>\n",
       "<table border=\"1\" class=\"dataframe\">\n",
       "  <thead>\n",
       "    <tr style=\"text-align: right;\">\n",
       "      <th></th>\n",
       "      <th>Boroughs</th>\n",
       "      <th>Neigborhoods</th>\n",
       "    </tr>\n",
       "  </thead>\n",
       "  <tbody>\n",
       "    <tr>\n",
       "      <th>0</th>\n",
       "      <td>Old_Toronto</td>\n",
       "      <td>Alexandra Park</td>\n",
       "    </tr>\n",
       "    <tr>\n",
       "      <th>1</th>\n",
       "      <td>Old_Toronto</td>\n",
       "      <td>The Annex</td>\n",
       "    </tr>\n",
       "    <tr>\n",
       "      <th>2</th>\n",
       "      <td>Old_Toronto</td>\n",
       "      <td>Baldwin Village</td>\n",
       "    </tr>\n",
       "    <tr>\n",
       "      <th>3</th>\n",
       "      <td>Old_Toronto</td>\n",
       "      <td>Cabbagetown</td>\n",
       "    </tr>\n",
       "    <tr>\n",
       "      <th>4</th>\n",
       "      <td>Old_Toronto</td>\n",
       "      <td>CityPlace</td>\n",
       "    </tr>\n",
       "    <tr>\n",
       "      <th>...</th>\n",
       "      <td>...</td>\n",
       "      <td>...</td>\n",
       "    </tr>\n",
       "    <tr>\n",
       "      <th>210</th>\n",
       "      <td>York</td>\n",
       "      <td>Old Mill</td>\n",
       "    </tr>\n",
       "    <tr>\n",
       "      <th>211</th>\n",
       "      <td>York</td>\n",
       "      <td>Rockcliffe–Smythe</td>\n",
       "    </tr>\n",
       "    <tr>\n",
       "      <th>212</th>\n",
       "      <td>York</td>\n",
       "      <td>Silverthorn (Keelesdale)</td>\n",
       "    </tr>\n",
       "    <tr>\n",
       "      <th>213</th>\n",
       "      <td>York</td>\n",
       "      <td>Tichester</td>\n",
       "    </tr>\n",
       "    <tr>\n",
       "      <th>214</th>\n",
       "      <td>York</td>\n",
       "      <td>Weston</td>\n",
       "    </tr>\n",
       "  </tbody>\n",
       "</table>\n",
       "<p>215 rows × 2 columns</p>\n",
       "</div>"
      ],
      "text/plain": [
       "        Boroughs              Neigborhoods\n",
       "0    Old_Toronto            Alexandra Park\n",
       "1    Old_Toronto                 The Annex\n",
       "2    Old_Toronto           Baldwin Village\n",
       "3    Old_Toronto               Cabbagetown\n",
       "4    Old_Toronto                 CityPlace\n",
       "..           ...                       ...\n",
       "210         York                  Old Mill\n",
       "211         York         Rockcliffe–Smythe\n",
       "212         York  Silverthorn (Keelesdale)\n",
       "213         York                 Tichester\n",
       "214         York                    Weston\n",
       "\n",
       "[215 rows x 2 columns]"
      ]
     },
     "execution_count": 32,
     "metadata": {},
     "output_type": "execute_result"
    }
   ],
   "source": [
    "toronto_copy"
   ]
  },
  {
   "cell_type": "markdown",
   "metadata": {},
   "source": [
    "## Importing the full dataset from the csv file."
   ]
  },
  {
   "cell_type": "code",
   "execution_count": 5,
   "metadata": {},
   "outputs": [
    {
     "data": {
      "text/html": [
       "<div>\n",
       "<style scoped>\n",
       "    .dataframe tbody tr th:only-of-type {\n",
       "        vertical-align: middle;\n",
       "    }\n",
       "\n",
       "    .dataframe tbody tr th {\n",
       "        vertical-align: top;\n",
       "    }\n",
       "\n",
       "    .dataframe thead th {\n",
       "        text-align: right;\n",
       "    }\n",
       "</style>\n",
       "<table border=\"1\" class=\"dataframe\">\n",
       "  <thead>\n",
       "    <tr style=\"text-align: right;\">\n",
       "      <th></th>\n",
       "      <th>Boroughs</th>\n",
       "      <th>Neigborhoods</th>\n",
       "      <th>Address</th>\n",
       "      <th>Location</th>\n",
       "      <th>Point</th>\n",
       "      <th>Latitude</th>\n",
       "      <th>Longitude</th>\n",
       "      <th>altitude</th>\n",
       "    </tr>\n",
       "  </thead>\n",
       "  <tbody>\n",
       "    <tr>\n",
       "      <th>0</th>\n",
       "      <td>Old_Toronto</td>\n",
       "      <td>Alexandra Park</td>\n",
       "      <td>Alexandra Park, Toronto</td>\n",
       "      <td>Alexandra Park, Spadina—Fort York, Old Toronto...</td>\n",
       "      <td>(43.650786999999994, -79.40431814731767, 0.0)</td>\n",
       "      <td>43.650787</td>\n",
       "      <td>-79.404318</td>\n",
       "      <td>0.0</td>\n",
       "    </tr>\n",
       "    <tr>\n",
       "      <th>1</th>\n",
       "      <td>Old_Toronto</td>\n",
       "      <td>The Annex</td>\n",
       "      <td>The Annex, Toronto</td>\n",
       "      <td>The Annex, University—Rosedale, Old Toronto, T...</td>\n",
       "      <td>(43.6703377, -79.407117, 0.0)</td>\n",
       "      <td>43.670338</td>\n",
       "      <td>-79.407117</td>\n",
       "      <td>0.0</td>\n",
       "    </tr>\n",
       "    <tr>\n",
       "      <th>2</th>\n",
       "      <td>Old_Toronto</td>\n",
       "      <td>Baldwin Village</td>\n",
       "      <td>Baldwin Village, Toronto</td>\n",
       "      <td>Baldwin Steps, South Hill, Toronto—St. Paul's,...</td>\n",
       "      <td>(43.6776885, -79.4081645, 0.0)</td>\n",
       "      <td>43.677689</td>\n",
       "      <td>-79.408164</td>\n",
       "      <td>0.0</td>\n",
       "    </tr>\n",
       "    <tr>\n",
       "      <th>3</th>\n",
       "      <td>Old_Toronto</td>\n",
       "      <td>Cabbagetown</td>\n",
       "      <td>Cabbagetown, Toronto</td>\n",
       "      <td>Cabbagetown, Toronto Centre, Old Toronto, Toro...</td>\n",
       "      <td>(43.6644734, -79.3669861, 0.0)</td>\n",
       "      <td>43.664473</td>\n",
       "      <td>-79.366986</td>\n",
       "      <td>0.0</td>\n",
       "    </tr>\n",
       "    <tr>\n",
       "      <th>4</th>\n",
       "      <td>Old_Toronto</td>\n",
       "      <td>CityPlace</td>\n",
       "      <td>CityPlace, Toronto</td>\n",
       "      <td>CityPlace, Spadina—Fort York, Old Toronto, Tor...</td>\n",
       "      <td>(43.6392482, -79.3963865, 0.0)</td>\n",
       "      <td>43.639248</td>\n",
       "      <td>-79.396387</td>\n",
       "      <td>0.0</td>\n",
       "    </tr>\n",
       "  </tbody>\n",
       "</table>\n",
       "</div>"
      ],
      "text/plain": [
       "      Boroughs     Neigborhoods                   Address  \\\n",
       "0  Old_Toronto   Alexandra Park   Alexandra Park, Toronto   \n",
       "1  Old_Toronto        The Annex        The Annex, Toronto   \n",
       "2  Old_Toronto  Baldwin Village  Baldwin Village, Toronto   \n",
       "3  Old_Toronto      Cabbagetown      Cabbagetown, Toronto   \n",
       "4  Old_Toronto        CityPlace        CityPlace, Toronto   \n",
       "\n",
       "                                            Location  \\\n",
       "0  Alexandra Park, Spadina—Fort York, Old Toronto...   \n",
       "1  The Annex, University—Rosedale, Old Toronto, T...   \n",
       "2  Baldwin Steps, South Hill, Toronto—St. Paul's,...   \n",
       "3  Cabbagetown, Toronto Centre, Old Toronto, Toro...   \n",
       "4  CityPlace, Spadina—Fort York, Old Toronto, Tor...   \n",
       "\n",
       "                                           Point   Latitude  Longitude  \\\n",
       "0  (43.650786999999994, -79.40431814731767, 0.0)  43.650787 -79.404318   \n",
       "1                  (43.6703377, -79.407117, 0.0)  43.670338 -79.407117   \n",
       "2                 (43.6776885, -79.4081645, 0.0)  43.677689 -79.408164   \n",
       "3                 (43.6644734, -79.3669861, 0.0)  43.664473 -79.366986   \n",
       "4                 (43.6392482, -79.3963865, 0.0)  43.639248 -79.396387   \n",
       "\n",
       "   altitude  \n",
       "0       0.0  \n",
       "1       0.0  \n",
       "2       0.0  \n",
       "3       0.0  \n",
       "4       0.0  "
      ]
     },
     "execution_count": 5,
     "metadata": {},
     "output_type": "execute_result"
    }
   ],
   "source": [
    "torontoDF=pd.read_csv('Toronto__Neighborhoods.csv')\n",
    "torontoDF.head()\n"
   ]
  },
  {
   "cell_type": "code",
   "execution_count": 2,
   "metadata": {},
   "outputs": [],
   "source": []
  },
  {
   "cell_type": "code",
   "execution_count": 4,
   "metadata": {},
   "outputs": [
    {
     "ename": "ModuleNotFoundError",
     "evalue": "No module named 'folium'",
     "output_type": "error",
     "traceback": [
      "\u001b[1;31m---------------------------------------------------------------------------\u001b[0m",
      "\u001b[1;31mModuleNotFoundError\u001b[0m                       Traceback (most recent call last)",
      "\u001b[1;32m<ipython-input-4-a8d6d735b005>\u001b[0m in \u001b[0;36m<module>\u001b[1;34m\u001b[0m\n\u001b[1;32m----> 1\u001b[1;33m \u001b[1;32mimport\u001b[0m \u001b[0mfolium\u001b[0m \u001b[1;32mas\u001b[0m \u001b[0mfm\u001b[0m\u001b[1;33m\u001b[0m\u001b[1;33m\u001b[0m\u001b[0m\n\u001b[0m",
      "\u001b[1;31mModuleNotFoundError\u001b[0m: No module named 'folium'"
     ]
    }
   ],
   "source": [
    "import folium as fm"
   ]
  },
  {
   "cell_type": "code",
   "execution_count": null,
   "metadata": {},
   "outputs": [],
   "source": []
  }
 ],
 "metadata": {
  "kernelspec": {
   "display_name": "Python 3",
   "language": "python",
   "name": "python3"
  },
  "language_info": {
   "codemirror_mode": {
    "name": "ipython",
    "version": 3
   },
   "file_extension": ".py",
   "mimetype": "text/x-python",
   "name": "python",
   "nbconvert_exporter": "python",
   "pygments_lexer": "ipython3",
   "version": "3.8.8"
  }
 },
 "nbformat": 4,
 "nbformat_minor": 4
}
